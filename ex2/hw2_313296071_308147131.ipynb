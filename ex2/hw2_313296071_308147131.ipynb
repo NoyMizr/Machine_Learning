{
 "cells": [
  {
   "cell_type": "markdown",
   "metadata": {
    "nbgrader": {
     "grade": false,
     "grade_id": "cell-6bd0516e7cb654f5",
     "locked": true,
     "schema_version": 1,
     "solution": false
    }
   },
   "source": [
    "# Exercise 2: Decision Trees\n",
    "\n",
    "In this assignment you will implement a Decision Tree algorithm as learned in class.\n",
    "\n",
    "## Read the following instructions carefully:\n",
    "\n",
    "1. This jupyter notebook contains all the step by step instructions needed for this exercise.\n",
    "2. Write **efficient vectorized** code whenever possible. Some calculations in this exercise take several minutes when implemented efficiently, and might take much longer otherwise. Unnecessary loops will result in point deduction.\n",
    "3. You are responsible for the correctness of your code and should add as many tests as you see fit. Tests will not be graded nor checked.\n",
    "4. Write your functions in this notebook only. **Do not create Python modules and import them**.\n",
    "5. You are allowed to use functions and methods from the [Python Standard Library](https://docs.python.org/3/library/) and [numpy](https://www.numpy.org/devdocs/reference/) only. **Do not import anything else.**\n",
    "6. Your code must run without errors. During the environment setup, you were given a specific version of `numpy` to install (1.15.4). Changes of the configuration we provided are at your own risk. Any code that cannot run will not be graded.\n",
    "7. Write your own code. Cheating will not be tolerated.\n",
    "8. Submission includes this notebook only with the exercise number and your ID as the filename. For example: `hw1_123456789_987654321.ipynb` if you submitted in pairs and `hw1_123456789.ipynb` if you submitted the exercise alone.\n",
    "9. Answers to qualitative questions should be written in **markdown** cells (with $\\LaTeX$ support). Answers that will be written in commented code blocks will not be checked.\n",
    "\n",
    "## In this exercise you will perform the following:\n",
    "1. Practice OOP in python.\n",
    "2. Implement two impurity measures: Gini and Entropy.\n",
    "3. Construct a decision tree algorithm.\n",
    "4. Prune the tree to achieve better results.\n",
    "5. Visualize your results."
   ]
  },
  {
   "cell_type": "markdown",
   "metadata": {},
   "source": [
    "# I have read and understood the instructions: ***313296071_308147131 ***"
   ]
  },
  {
   "cell_type": "code",
   "execution_count": 2,
   "metadata": {
    "nbgrader": {
     "grade": false,
     "grade_id": "cell-ed9fe7b1026e33cb",
     "locked": true,
     "schema_version": 1,
     "solution": false
    }
   },
   "outputs": [],
   "source": [
    "import numpy as np\n",
    "import pandas as pd\n",
    "import matplotlib.pyplot as plt\n",
    "\n",
    "# make matplotlib figures appear inline in the notebook\n",
    "%matplotlib inline\n",
    "plt.rcParams['figure.figsize'] = (10.0, 8.0) # set default size of plots\n",
    "plt.rcParams['image.interpolation'] = 'nearest'\n",
    "plt.rcParams['image.cmap'] = 'gray'\n",
    "\n",
    "# Make the notebook automatically reload external python modules\n",
    "%load_ext autoreload\n",
    "%autoreload 2\n",
    "# Ignore warnings\n",
    "import warnings\n",
    "warnings.filterwarnings('ignore')"
   ]
  },
  {
   "cell_type": "markdown",
   "metadata": {
    "nbgrader": {
     "grade": false,
     "grade_id": "cell-c6ac605270c2b091",
     "locked": true,
     "schema_version": 1,
     "solution": false
    }
   },
   "source": [
    "## Warmup - OOP in python\n",
    "\n",
    "Our desicion tree will be implemented using a dedicated python class. Python classes are very similar to classes in Java.\n",
    "\n",
    "\n",
    "You can use the following [site](https://jeffknupp.com/blog/2014/06/18/improve-your-python-python-classes-and-object-oriented-programming/) to learn about classes in python."
   ]
  },
  {
   "cell_type": "code",
   "execution_count": 3,
   "metadata": {},
   "outputs": [],
   "source": [
    "class Node(object):\n",
    "    def __init__(self, data):\n",
    "        self.data = data\n",
    "        self.children = []\n",
    "\n",
    "    def add_child(self, node):\n",
    "        self.children.append(node)"
   ]
  },
  {
   "cell_type": "code",
   "execution_count": 4,
   "metadata": {},
   "outputs": [
    {
     "data": {
      "text/plain": [
       "[<__main__.Node at 0x1e91cdbf708>, <__main__.Node at 0x1e91cdbf7c8>]"
      ]
     },
     "execution_count": 4,
     "metadata": {},
     "output_type": "execute_result"
    }
   ],
   "source": [
    "n = Node(5)\n",
    "p = Node(6)\n",
    "q = Node(7)\n",
    "n.add_child(p)\n",
    "n.add_child(q)\n",
    "n.children"
   ]
  },
  {
   "cell_type": "markdown",
   "metadata": {
    "nbgrader": {
     "grade": false,
     "grade_id": "cell-2f1ceb251c649b62",
     "locked": true,
     "schema_version": 1,
     "solution": false
    }
   },
   "source": [
    "## Data preprocessing\n",
    "\n",
    "For the following exercise, we will use a dataset containing mushroom data `agaricus-lepiota.csv`. \n",
    "\n",
    "This data set includes descriptions of hypothetical samples corresponding to 23 species of gilled mushrooms in the Agaricus and Lepiota Family. Each species is identified as definitely edible, definitely poisonous, or of unknown edibility and not recommended. This latter class was combined with the poisonous\n",
    "one (=there are only two classes **edible** and **poisonous**). \n",
    "    \n",
    "The dataset contains 8124 observations with 22 features:\n",
    "1. cap-shape: bell=b,conical=c,convex=x,flat=f,knobbed=k,sunken=s\n",
    "2. cap-surface: fibrous=f,grooves=g,scaly=y,smooth=s\n",
    "3. cap-color: brown=n,buff=b,cinnamon=c,gray=g,green=r,pink=p,purple=u,red=e,white=w,yellow=y\n",
    "4. bruises: bruises=t,no=f\n",
    "5. odor: almond=a,anise=l,creosote=c,fishy=y,foul=f, musty=m,none=n,pungent=p,spicy=s\n",
    "6. gill-attachment: attached=a,descending=d,free=f,notched=n\n",
    "7. gill-spacing: close=c,crowded=w,distant=d\n",
    "8. gill-size: broad=b,narrow=n\n",
    "9. gill-color: black=k,brown=n,buff=b,chocolate=h,gray=g,green=r,orange=o,pink=p,purple=u,red=e,white=w,yellow=y\n",
    "10. stalk-shape: enlarging=e,tapering=t\n",
    "11. stalk-root: bulbous=b,club=c,cup=u,equal=e,rhizomorphs=z,rooted=r\n",
    "12. stalk-surface-above-ring: fibrous=f,scaly=y,silky=k,smooth=s\n",
    "13. stalk-surface-below-ring: fibrous=f,scaly=y,silky=k,smooth=s\n",
    "14. stalk-color-above-ring: brown=n,buff=b,cinnamon=c,gray=g,orange=o,pink=p,red=e,white=w,yellow=y\n",
    "15. stalk-color-below-ring: brown=n,buff=b,cinnamon=c,gray=g,orange=o,pink=p,red=e,white=w,yellow=y\n",
    "16. veil-type: partial=p,universal=u\n",
    "17. veil-color: brown=n,orange=o,white=w,yellow=y\n",
    "18. ring-number: none=n,one=o,two=t\n",
    "19. ring-type: cobwebby=c,evanescent=e,flaring=f,large=l,none=n,pendant=p,sheathing=s,zone=z\n",
    "20. spore-print-color: black=k,brown=n,buff=b,chocolate=h,green=r,orange=o,purple=u,white=w,yellow=y\n",
    "21. population: abundant=a,clustered=c,numerous=n,scattered=s,several=v,solitary=y\n",
    "22. habitat: grasses=g,leaves=l,meadows=m,paths=p,urban=u,waste=w,woods=d\n",
    "\n",
    "First, we will read and explore the data using pandas and the `.read_csv` method. Pandas is an open source library providing high-performance, easy-to-use data structures and data analysis tools for the Python programming language."
   ]
  },
  {
   "cell_type": "code",
   "execution_count": 5,
   "metadata": {
    "nbgrader": {
     "grade": false,
     "grade_id": "cell-d79cb4542926ad3f",
     "locked": true,
     "schema_version": 1,
     "solution": false
    }
   },
   "outputs": [],
   "source": [
    "# load dataset\n",
    "data = pd.read_csv('agaricus-lepiota.csv')"
   ]
  },
  {
   "cell_type": "markdown",
   "metadata": {},
   "source": [
    "One of the advantages of the Decision Tree algorithm is that almost no preprocessing is required. However, finding missing values is always required."
   ]
  },
  {
   "cell_type": "code",
   "execution_count": 6,
   "metadata": {},
   "outputs": [
    {
     "name": "stdout",
     "output_type": "stream",
     "text": [
      "There were 0 columns with missing values.\n"
     ]
    }
   ],
   "source": [
    "#############################################################################\n",
    "# TODO: Find the column\\s with missing values and remove them from the data.#\n",
    "#############################################################################\n",
    "data = data.dropna(axis='columns')\n",
    "print(\"There were {} columns with missing values.\".format(22-data.shape[1]))\n",
    "#############################################################################\n",
    "#                             END OF YOUR CODE                              #\n",
    "#############################################################################"
   ]
  },
  {
   "cell_type": "markdown",
   "metadata": {},
   "source": [
    "We will split the dataset to `Training` and `Test` sets"
   ]
  },
  {
   "cell_type": "code",
   "execution_count": 7,
   "metadata": {
    "scrolled": true
   },
   "outputs": [
    {
     "name": "stdout",
     "output_type": "stream",
     "text": [
      "Training dataset shape:  (6093, 22)\n",
      "Testing dataset shape:  (2031, 22)\n"
     ]
    }
   ],
   "source": [
    "from sklearn.model_selection import train_test_split\n",
    "# Making sure the last column will hold the labels\n",
    "X, y = data.drop('class', axis=1), data['class']\n",
    "X = np.column_stack([X,y])\n",
    "\n",
    "# split dataset using random_state to get the same split each time\n",
    "X_train, X_test = train_test_split(X, random_state=99)\n",
    "\n",
    "print(\"Training dataset shape: \", X_train.shape)\n",
    "print(\"Testing dataset shape: \", X_test.shape)\n"
   ]
  },
  {
   "cell_type": "markdown",
   "metadata": {
    "nbgrader": {
     "grade": false,
     "grade_id": "cell-fd7b0191f3f1e897",
     "locked": true,
     "schema_version": 1,
     "solution": false
    }
   },
   "source": [
    "## Impurity Measures\n",
    "\n",
    "(5 points each - 10 points total)\n",
    "\n",
    "Impurity is a measure of how often a randomly chosen element from the set would be incorrectly labeled if it was randomly labeled according to the distribution of labels in the subset. Implement the functions `calc_gini` and `calc_entropy`. You are encouraged to test your implementation."
   ]
  },
  {
   "cell_type": "code",
   "execution_count": 8,
   "metadata": {},
   "outputs": [],
   "source": [
    "def calc_gini(data):\n",
    "    \"\"\"\n",
    "    Calculate gini impurity measure of a dataset.\n",
    " \n",
    "    Input:\n",
    "    - data: any dataset where the last column holds the labels.\n",
    " \n",
    "    Returns the gini impurity.    \n",
    "    \"\"\"\n",
    "    gini = 0.0\n",
    "    ###########################################################################\n",
    "    # TODO: Implement the function.                                           #\n",
    "    ###########################################################################\n",
    "    gini +=1\n",
    "\n",
    "    unique_element, element_count = np.unique(data[:, -1], return_counts=True)\n",
    "    \n",
    "\n",
    "    for element in element_count:\n",
    "        gini -= (element / data.shape[0])**2\n",
    "        \n",
    "    \n",
    "    ###########################################################################\n",
    "    #                             END OF YOUR CODE                            #\n",
    "    ###########################################################################\n",
    "    return gini"
   ]
  },
  {
   "cell_type": "code",
   "execution_count": 9,
   "metadata": {},
   "outputs": [],
   "source": [
    "def calc_entropy(data):\n",
    "    \"\"\"\n",
    "    Calculate the entropy of a dataset.\n",
    "\n",
    "    Input:\n",
    "    - data: any dataset where the last column holds the labels.\n",
    "\n",
    "    Returns the entropy of the dataset.    \n",
    "    \"\"\"\n",
    "    entropy = 0.0\n",
    "    ###########################################################################\n",
    "    # TODO: Implement the function.                                           #\n",
    "    ###########################################################################\n",
    "\n",
    "    \n",
    "    unique_elemnet, element_count = np.unique(data[:, -1], return_counts=True)\n",
    "    proportion = element_count/data.shape[0]\n",
    "    entropy -= np.dot(proportion, np.log2(proportion))    \n",
    "    \n",
    "    ###########################################################################\n",
    "    #                             END OF YOUR CODE                            #\n",
    "    ###########################################################################\n",
    "    return entropy"
   ]
  },
  {
   "cell_type": "code",
   "execution_count": 10,
   "metadata": {
    "scrolled": true
   },
   "outputs": [
    {
     "data": {
      "text/plain": [
       "(0.49956363223797745, 0.9993703627906085)"
      ]
     },
     "execution_count": 10,
     "metadata": {},
     "output_type": "execute_result"
    }
   ],
   "source": [
    "##### Your Tests Here #####\n",
    "calc_gini(X), calc_entropy(X)"
   ]
  },
  {
   "cell_type": "markdown",
   "metadata": {},
   "source": [
    "## Goodness of Split\n",
    "\n",
    "(10 Points)\n",
    "\n",
    "Given a feature the Goodnees of Split measures the reduction in the impurity if we split the data according to the feature.\n",
    "$$\n",
    "\\Delta\\varphi(S, A) = \\varphi(S) - \\sum_{v\\in Values(A)} \\frac{|S_v|}{|S|}\\varphi(S_v)\n",
    "$$\n",
    "\n",
    "In our implementation the goodness_of_split function will return either the Goodness of Split or the Gain Ratio as learned in class. You'll control the return value with the `gain_ratio` parameter. If this parameter will set to False (the default value) it will return the regular Goodness of Split. If it will set to True it will return the Gain Ratio.\n",
    "$$\n",
    "GainRatio(S,A)=\\frac{InformationGain(S,A)}{SplitInformation(S,A)}\n",
    "$$\n",
    "Where:\n",
    "$$\n",
    "InformationGain(S,A)=Goodness\\ of\\ Split\\ calculated\\ with\\ Entropy\\ as\\ the\\ Impurity\\ function \\\\\n",
    "SplitInformation(S,A)=- \\sum_{a\\in A} \\frac{|S_a|}{|S|}\\log\\frac{|S_a|}{|S|}\n",
    "$$\n",
    "NOTE: you can add more parameters to the function and you can also add more returning variables (The given parameters and the given returning variable should not be touch)."
   ]
  },
  {
   "cell_type": "code",
   "execution_count": 11,
   "metadata": {},
   "outputs": [],
   "source": [
    "def goodness_of_split(data, feature, impurity_func, gain_ratio=False):\n",
    "    \"\"\"\n",
    "    Calculate the goodness of split of a dataset given a feature and impurity function.\n",
    "\n",
    "    Input:\n",
    "    - data: any dataset where the last column holds the labels.\n",
    "    - feature: the feature index.\n",
    "    - impurity func: a function that calculates the impurity.\n",
    "    - gain_ratio: goodness of split or gain ratio flag.\n",
    "\n",
    "    Returns the goodness of split (or the Gain Ration).  \n",
    "    \"\"\"\n",
    "    ###########################################################################\n",
    "    # TODO: Implement the function.                                           #\n",
    "    ###########################################################################\n",
    "    \n",
    "    # get the values of attributes & and their amount\n",
    "    unique_element, element_count = np.unique(data[:,feature],  return_counts=True)\n",
    "    \n",
    "    proportion = element_count / data.shape[0] ## proportion of each value\n",
    "\n",
    "\n",
    "    sigma = [] \n",
    "    \n",
    "    #for every value of attribute save its impurity\n",
    "    for value in unique_element:\n",
    "        childData = data[np.where(data[:,feature] == value)]\n",
    "        sigma.append(impurity_func(childData))\n",
    "    \n",
    "    # sigma = the sum of proportion*impurity of every value of attribute\n",
    "    sigma = np.dot(proportion,sigma)\n",
    "    \n",
    "    goodness = impurity_func(data) - sigma\n",
    "    \n",
    "    \n",
    "    if(gain_ratio):\n",
    "        splitInfo = - np.sum(proportion*np.log2(proportion))\n",
    "        if splitInfo == 0:\n",
    "            goodness = 0\n",
    "            \n",
    "        goodness = goodness/splitInfo\n",
    "       \n",
    "    ###########################################################################\n",
    "    #                             END OF YOUR CODE                            #\n",
    "    ###########################################################################\n",
    "    return goodness #, unique_element, element_indices, sorted_data"
   ]
  },
  {
   "cell_type": "markdown",
   "metadata": {},
   "source": [
    "## Building a Decision Tree\n",
    "\n",
    "(30 points)\n",
    "\n",
    "Use a Python class to construct the decision tree. Your class should support the following functionality:\n",
    "\n",
    "1. Initiating a node for a decision tree. You will need to use several class methods and class attributes and you are free to use them as you see fit. We recommend that every node will hold the feature and value used for the split and its children.\n",
    "2. Your code should support both Gini and Entropy as impurity measures. \n",
    "3. The provided data includes categorical data. In this exercise, when splitting a node create the number of children needed according to the attribute unique values.\n",
    "\n",
    "Complete the class `DecisionNode`. The structure of this class is entirely up to you. \n",
    "\n",
    "Complete the function `build_tree`. This function should get the training dataset and the impurity as inputs, initiate a root for the decision tree and construct the tree according to the procedure you learned in class."
   ]
  },
  {
   "cell_type": "code",
   "execution_count": 12,
   "metadata": {},
   "outputs": [],
   "source": [
    "class DecisionNode:\n",
    "\n",
    "    # This class will hold everything you require to construct a decision tree.\n",
    "    # The structure of this class is up to you. However, you need to support basic \n",
    "    # functionality as described above. It is highly recommended that you \n",
    "    # first read and understand the entire exercise before diving into this class.\n",
    "    \n",
    "    def __init__(self, featureIndex, value ,data, depth, parentIndex): #impurity\n",
    "        self.data = data                     # relevent data for this node\n",
    "        self.featureIndex = featureIndex     # column index of criteria being tested\n",
    "        self.value = value                   # the value of attribute \n",
    "        self.depth = depth                   # value of the attribute leading here aka 'hot' 'cold' 'mild'\n",
    "        self.parentIndex = parentIndex\n",
    "        self.children = []\n",
    "        \n",
    "        # counts how many are classified as edible or poisons\n",
    "        def count_labels(data):\n",
    "            unique_element, element_count = np.unique(data[:, -1], return_counts=True)\n",
    "            e, p = 0, 0\n",
    "            for i, count in enumerate(element_count):\n",
    "                if(unique_element[i] == 'e'):\n",
    "                    e = count\n",
    "                elif unique_element[i] == 'p':\n",
    "                    p = count\n",
    "\n",
    "            return e, p\n",
    "        \n",
    "        self.edible , self.poisn = count_labels(data)\n",
    "        \n",
    "        # set prediction based on the majority     \n",
    "        self.predict = 'e' if self.edible > self.poisn else 'p'\n",
    "    \n",
    "    def set_feature(self,feature):\n",
    "        self.featureIndex = feature\n",
    "    \n",
    "    def add_child(self, childNode):\n",
    "        childNode.parent = self\n",
    "        self.children.append(childNode)\n",
    "        \n",
    "    def is_leaf(self):\n",
    "        return self.children == []    \n",
    "    \n",
    "    def chi_sqr_calc(self, feature):\n",
    "        probEdible = self.edible/(self.edible+self.poisn)\n",
    "        probPoisn = 1 - probEdible\n",
    "\n",
    "        #values= attribute array of this feature\n",
    "        # Df = a vector of amount of instance from each value\n",
    "        values, Df = np.unique(self.data[:, feature], return_counts=True) \n",
    "\n",
    "        Eedible = Df*probEdible #E0\n",
    "        Epoisn = Df*probPoisn #E1\n",
    "        \n",
    "        # pf = vector of instances for which xj = value & class= edible\n",
    "        # nf = vector of instances for which xj = value & class= poisn\n",
    "        pf = []\n",
    "        nf = []\n",
    "\n",
    "        for child in values:\n",
    "            childData = self.data[np.where(self.data[:, feature] == child)]\n",
    "            element, element_count = np.unique(childData[:,-1], return_counts=True)\n",
    "            e, p =0 ,0\n",
    "            for i, count in enumerate(element_count):\n",
    "                if(element[i] == 'e'):\n",
    "                    e = count\n",
    "                elif element[i] == 'p':\n",
    "                    p = count\n",
    "            pf.append(e)\n",
    "            nf.append(p)\n",
    "\n",
    "        Xsqr = np.sum(((pf-Eedible)**2)/Eedible + ((nf-Epoisn)**2)/Epoisn)\n",
    "\n",
    "        return Xsqr, (len(Df)-1)\n",
    "        \n",
    "    \n",
    "   \n",
    "    "
   ]
  },
  {
   "cell_type": "code",
   "execution_count": 13,
   "metadata": {},
   "outputs": [],
   "source": [
    "## helper function to find the best split based on all features goodnes\n",
    "def find_best_split(data, impurityFunc, gain_ratio):\n",
    "    max_goodness = 0.0\n",
    "    best_feature = -1\n",
    "    \n",
    "    for feature in range(data.shape[1] -1):  \n",
    "        currentGoodness = goodness_of_split(data, feature, impurityFunc, gain_ratio)\n",
    "        if currentGoodness > max_goodness:\n",
    "            max_goodness = currentGoodness\n",
    "            best_feature = feature\n",
    "    return best_feature"
   ]
  },
  {
   "cell_type": "code",
   "execution_count": 27,
   "metadata": {},
   "outputs": [],
   "source": [
    "def build_tree(data, impurityFunction, gain_ratio=False, chi=1, max_depth=1000, return_depth=False):\n",
    "    \"\"\"\n",
    "    Build a tree using the given impurity measure and training dataset. \n",
    "    You are required to fully grow the tree until all leaves are pure. \n",
    "\n",
    "    Input:\n",
    "    - data: the training dataset.\n",
    "    - impurity: the chosen impurity measure. Notice that you can send a function\n",
    "                as an argument in python.\n",
    "    - gain_ratio: goodness of split or gain ratio flag\n",
    "\n",
    "    Output: the root node of the tree.\n",
    "    \"\"\"\n",
    "    root = None\n",
    "    \n",
    "    ###########################################################################\n",
    "    # TODO: Implement the function.                                           #\n",
    "    ###########################################################################\n",
    "    depth = 0\n",
    "    \n",
    "    root = DecisionNode(None,None, data, depth, None)\n",
    "    \n",
    "    queue = [root]\n",
    "\n",
    "    for currentNode in queue:\n",
    "\n",
    "        if currentNode.depth >= max_depth:\n",
    "            break\n",
    "            \n",
    "        if impurityFunction(currentNode.data) == 0: #it's a leaf- monochromatic \n",
    "            continue\n",
    "        \n",
    "        feature = find_best_split(currentNode.data, impurityFunction, gain_ratio)\n",
    "\n",
    "        if(feature == -1):  #no splitting value was found- split will make it better\n",
    "            continue\n",
    "        \n",
    "        currentNode.set_feature(feature)\n",
    "\n",
    "        unique_elements = np.unique(currentNode.data[:, feature])\n",
    "    \n",
    "        if chi != 1:\n",
    "            Xsqr, df = currentNode.chi_sqr_calc(feature)\n",
    "            df = len(unique_elements) -1 \n",
    "            if Xsqr < chi_table[df][chi]:\n",
    "                continue\n",
    "                \n",
    "        \n",
    "        # loop over currnet node children attributes\n",
    "        for attribute in unique_elements:\n",
    "            childData = currentNode.data[np.where(currentNode.data[:,feature] == attribute)] # get relevant data for child\n",
    "            child = DecisionNode(None, attribute, childData, currentNode.depth + 1, feature) # creats node for the child\n",
    "            currentNode.add_child(child)     # add child to parents children's list\n",
    "            queue.append(child)             # add child node to queue\n",
    "        \n",
    "        if depth < currentNode.depth: \n",
    "            depth = currentNode.depth\n",
    "\n",
    "    # if return_depth flag in on\n",
    "    if(return_depth):\n",
    "        return root, depth\n",
    "\n",
    "    ###########################################################################\n",
    "    #                             END OF YOUR CODE                            #\n",
    "    ###########################################################################\n",
    "    return root\n"
   ]
  },
  {
   "cell_type": "code",
   "execution_count": 28,
   "metadata": {
    "scrolled": false
   },
   "outputs": [],
   "source": [
    "# python support passing a function as arguments to another function.\n",
    "tree_gini = build_tree(data=X_train, impurityFunction = calc_gini) # gini and goodness of split\n",
    "tree_entropy = build_tree(data=X_train, impurityFunction = calc_entropy) # entropy and goodness of split\n",
    "tree_entropy_gain_ratio = build_tree(data=X_train, impurityFunction = calc_entropy, gain_ratio=True) # entropy and gain ratio\n"
   ]
  },
  {
   "cell_type": "markdown",
   "metadata": {},
   "source": [
    "## Tree evaluation\n",
    "\n",
    "(10 points) \n",
    "\n",
    "Complete the functions `predict` and `calc_accuracy`. "
   ]
  },
  {
   "cell_type": "code",
   "execution_count": 29,
   "metadata": {},
   "outputs": [],
   "source": [
    "def predict(root, instance):\n",
    "    \"\"\"\n",
    "    Predict a given instance using the decision tree\n",
    " \n",
    "    Input:\n",
    "    - root: the root of the decision tree.\n",
    "    - instance: a row vector from the dataset. Note that the last element \n",
    "                of this vector is the label of the instance.\n",
    " \n",
    "    Output: the prediction of the instance.\n",
    "    \"\"\"\n",
    "    pred = None\n",
    "    ###########################################################################\n",
    "    # TODO: Implement the function.                                           #\n",
    "    ###########################################################################\n",
    "    \n",
    "    \n",
    "    while(pred is None):\n",
    "        childrenFound = False\n",
    "\n",
    "        # a leaf was reached\n",
    "        if (root.children == []) : \n",
    "            pred = root.predict \n",
    "          \n",
    "        else:\n",
    "            \n",
    "            for child in root.children:\n",
    "                # we found a child to continue our path down, check its children\n",
    "                if child.value == instance[root.featureIndex] : \n",
    "                    root = child\n",
    "                    childrenFound = True\n",
    "                    break\n",
    "            \n",
    "            # we found no child, we cannot go any farther\n",
    "            if (childrenFound == False):\n",
    "                break\n",
    "                \n",
    "    pred = root.predict\n",
    "       \n",
    "       \n",
    "    ###########################################################################\n",
    "    #                             END OF YOUR CODE                            #\n",
    "    ###########################################################################\n",
    "    return pred"
   ]
  },
  {
   "cell_type": "code",
   "execution_count": 30,
   "metadata": {},
   "outputs": [],
   "source": [
    "def calc_accuracy(node, dataset):\n",
    "    \"\"\"\n",
    "    Predict a given dataset using the decision tree\n",
    " \n",
    "    Input:\n",
    "    - node: a node in the decision tree.\n",
    "    - dataset: the dataset on which the accuracy is evaluated\n",
    " \n",
    "    Output: the accuracy of the decision tree on the given dataset (%).\n",
    "    \"\"\"\n",
    "    accuracy = 0\n",
    "    ###########################################################################\n",
    "    # TODO: Implement the function.                                           #\n",
    "    ###########################################################################\n",
    "    for instance in dataset:  \n",
    "        if instance[-1] == predict(node, instance):     \n",
    "            accuracy += 1\n",
    "            \n",
    "\n",
    "    accuracy = accuracy / dataset.shape[0]\n",
    "    ###########################################################################\n",
    "    #                             END OF YOUR CODE                            #\n",
    "    ###########################################################################\n",
    "    return accuracy "
   ]
  },
  {
   "cell_type": "markdown",
   "metadata": {},
   "source": [
    "After building the three trees using the training set, you should calculate the accuracy on the test set. For each tree print the training and test accuracy. Select the tree that gave you the best test accuracy. For the rest of the exercise, use that tree (when you asked to build another tree use the same impurity function and same gain_ratio flag). "
   ]
  },
  {
   "cell_type": "code",
   "execution_count": 31,
   "metadata": {},
   "outputs": [
    {
     "name": "stdout",
     "output_type": "stream",
     "text": [
      "Gini accuracy-\n",
      " Training set: 0.9924503528639422\n",
      " Test set: 0.7769571639586411\n",
      "\n",
      "Entropy accuracy-\n",
      " Training set: 0.9940915805022157\n",
      " Test set: 0.7813884785819794\n",
      "\n",
      "Entropy with gainRatio accuracy-\n",
      " Training set: 0.9963892991957984\n",
      " Test set: 0.7902511078286558\n",
      "\n",
      "Function which created most accurate tree: Entropy with gainRatio.\n"
     ]
    }
   ],
   "source": [
    "# #### Your code here ####\n",
    "Accuracy_gini_testing = calc_accuracy(tree_gini, X_test)\n",
    "Accuracy_gini_training= calc_accuracy(tree_gini, X_train)\n",
    "\n",
    "Accuracy_entropy_testing =  calc_accuracy(tree_entropy, X_test)\n",
    "Accuracy_entropy_training =  calc_accuracy(tree_entropy, X_train)\n",
    "\n",
    "Accuracy_entropy_gain_testing =  calc_accuracy(tree_entropy_gain_ratio, X_test)\n",
    "Accuracy_entropy_gain_training =  calc_accuracy(tree_entropy_gain_ratio, X_train)\n",
    "\n",
    "if Accuracy_gini_testing > Accuracy_entropy_testing:\n",
    "    best_funct = \"Gini\" if Accuracy_gini_testing > Accuracy_entropy_gain_testing else \"Entropy with gainRatio\"\n",
    "    \n",
    "else:\n",
    "    best_funct = \"Entropy\" if Accuracy_entropy_testing > Accuracy_entropy_gain_testing else \"Entropy with gainRatio\"\n",
    "\n",
    "print(\"Gini accuracy-\\n Training set: {}\\n Test set: {}\\n\".format(Accuracy_gini_training, Accuracy_gini_testing))\n",
    "print(\"Entropy accuracy-\\n Training set: {}\\n Test set: {}\\n\".format(Accuracy_entropy_training, Accuracy_entropy_testing))\n",
    "print(\"Entropy with gainRatio accuracy-\\n Training set: {}\\n Test set: {}\\n\".format(Accuracy_entropy_gain_training, Accuracy_entropy_gain_testing))\n",
    "print(\"Function which created most accurate tree: {}.\".format(best_funct))"
   ]
  },
  {
   "cell_type": "markdown",
   "metadata": {},
   "source": [
    "## Depth pruning\n",
    "\n",
    "(15 points)\n",
    "\n",
    "Consider the following max_depth values: [1, 2, 3, 4, 5, 6, 7, 8, 9, 10]. For each value, construct a tree and prune it according to the max_depth value = don't let the tree to grow beyond this depth. Next, calculate the training and testing accuracy.<br>\n",
    "On a single plot, draw the training and testing accuracy as a function of the max_depth. Mark the best result on the graph with red circle."
   ]
  },
  {
   "cell_type": "code",
   "execution_count": 32,
   "metadata": {},
   "outputs": [],
   "source": [
    "#### Your code here ####\n",
    "training = []\n",
    "testing = []\n",
    "depths = [1, 2, 3, 4, 5, 6, 7, 8, 9, 10]\n",
    "\n",
    "for depth in depths:\n",
    "    \n",
    "    tree = build_tree(data=X_train, impurityFunction=calc_entropy, gain_ratio=True, max_depth=depth)\n",
    "    training.append(calc_accuracy(tree, X_train)*100)\n",
    "    testing.append(calc_accuracy(tree, X_test)*100)\n",
    "\n",
    "\n",
    "#get the index of the most accurate tree\n",
    "most_accurate_index =np.argmax(testing)\n"
   ]
  },
  {
   "cell_type": "code",
   "execution_count": 33,
   "metadata": {},
   "outputs": [
    {
     "data": {
      "image/png": "[encoded data removed]",
      "text/plain": [
       "<Figure size 720x576 with 1 Axes>"
      ]
     },
     "metadata": {
      "needs_background": "light"
     },
     "output_type": "display_data"
    }
   ],
   "source": [
    "plt.plot(depths, training, \"o-\", label= 'Training')\n",
    "plt.plot(depths, testing, \"o-\", label= 'Testing')\n",
    "plt.xticks(depths)\n",
    "plt.plot(depths[most_accurate_index], testing[most_accurate_index], 'ro',markersize=12)\n",
    "plt.xlabel('depth values')\n",
    "plt.ylabel('Accuracy (%)')\n",
    "plt.title('Accuracy as function of depth value')\n",
    "plt.legend()\n",
    "plt.show()"
   ]
  },
  {
   "cell_type": "markdown",
   "metadata": {},
   "source": [
    "## Chi square pre-pruning\n",
    "\n",
    "(15 points)\n",
    "\n",
    "Consider the following p-value cut-off values: [1 (no pruning), 0.5, 0.25, 0.1, 0.05, 0.0001 (max pruning)]. For each value, construct a tree and prune it according to the cut-off value. Next, calculate the training and testing accuracy. <br>\n",
    "On a single plot, draw the training and testing accuracy as a function of the tuple (p-value, tree depth). Mark the best result on the graph with red circle."
   ]
  },
  {
   "cell_type": "code",
   "execution_count": 34,
   "metadata": {},
   "outputs": [],
   "source": [
    "### Chi square table values ###\n",
    "# The first key is the degree of freedom \n",
    "# The second key is the p-value cut-off\n",
    "# The values are the chi-statistic that you need to use in the pruning\n",
    "chi_table = {1: {0.5 : 0.45,\n",
    "                 0.25 : 1.32,\n",
    "                 0.1 : 2.71,\n",
    "                 0.05 : 3.84,\n",
    "                 0.0001 : 100000},\n",
    "             2: {0.5 : 1.39,\n",
    "                 0.25 : 2.77,\n",
    "                 0.1 : 4.60,\n",
    "                 0.05 : 5.99,\n",
    "                 0.0001 : 100000},\n",
    "             3: {0.5 : 2.37,\n",
    "                 0.25 : 4.11,\n",
    "                 0.1 : 6.25,\n",
    "                 0.05 : 7.82,\n",
    "                 0.0001 : 100000},\n",
    "             4: {0.5 : 3.36,\n",
    "                 0.25 : 5.38,\n",
    "                 0.1 : 7.78,\n",
    "                 0.05 : 9.49,\n",
    "                 0.0001 : 100000},\n",
    "             5: {0.5 : 4.35,\n",
    "                 0.25 : 6.63,\n",
    "                 0.1 : 9.24,\n",
    "                 0.05 : 11.07,\n",
    "                 0.0001 : 100000},\n",
    "             6: {0.5 : 5.35,\n",
    "                 0.25 : 7.84,\n",
    "                 0.1 : 10.64,\n",
    "                 0.05 : 12.59,\n",
    "                 0.0001 : 100000},\n",
    "             7: {0.5 : 6.35,\n",
    "                 0.25 : 9.04,\n",
    "                 0.1 : 12.01,\n",
    "                 0.05 : 14.07,\n",
    "                 0.0001 : 100000},\n",
    "             8: {0.5 : 7.34,\n",
    "                 0.25 : 10.22,\n",
    "                 0.1 : 13.36,\n",
    "                 0.05 : 15.51,\n",
    "                 0.0001 : 100000},\n",
    "             9: {0.5 : 8.34,\n",
    "                 0.25 : 11.39,\n",
    "                 0.1 : 14.68,\n",
    "                 0.05 : 16.92,\n",
    "                 0.0001 : 100000},\n",
    "             10: {0.5 : 9.34,\n",
    "                  0.25 : 12.55,\n",
    "                  0.1 : 15.99,\n",
    "                  0.05 : 18.31,\n",
    "                  0.0001 : 100000},\n",
    "             11: {0.5 : 10.34,\n",
    "                  0.25 : 13.7,\n",
    "                  0.1 : 17.27,\n",
    "                  0.05 : 19.68,\n",
    "                  0.0001 : 100000}}"
   ]
  },
  {
   "cell_type": "code",
   "execution_count": 35,
   "metadata": {},
   "outputs": [],
   "source": [
    "#### Your code here ####\n",
    "p_values = [1,0.5, 0.25, 0.1, 0.05, 0.0001]\n",
    "chi_training_accuracy = []\n",
    "chi_testing_accuracy = []\n",
    "trees_depth = []\n",
    "tupleList =[]\n",
    "\n",
    "\n",
    "for value in p_values:\n",
    "    tree, depth = build_tree(data=X_train, impurityFunction=calc_entropy, gain_ratio=True, chi=value, return_depth=True)\n",
    "    chi_training_accuracy.append(calc_accuracy(tree, X_train)*100)\n",
    "    chi_testing_accuracy.append(calc_accuracy(tree, X_test)*100)\n",
    "    trees_depth.append(str(tuple([value, depth])))  \n",
    "\n",
    "\n",
    "most_chi_accurate =np.argmax(chi_testing_accuracy[1:])+1"
   ]
  },
  {
   "cell_type": "code",
   "execution_count": 36,
   "metadata": {},
   "outputs": [
    {
     "data": {
      "image/png": "[encoded data removed]",
      "text/plain": [
       "<Figure size 720x576 with 1 Axes>"
      ]
     },
     "metadata": {
      "needs_background": "light"
     },
     "output_type": "display_data"
    }
   ],
   "source": [
    "\n",
    "plt.xticks(np.arange(len(trees_depth)),trees_depth)\n",
    "plt.plot(trees_depth, chi_training_accuracy, \"o-\", label= 'Training')\n",
    "plt.plot(trees_depth, chi_testing_accuracy, \"o-\", label= 'Testing')\n",
    "plt.plot(trees_depth[most_chi_accurate], chi_testing_accuracy[most_chi_accurate], 'ro',markersize=12)\n",
    "plt.xlabel('(p_value, depth values)')\n",
    "plt.ylabel('Accuracy (%)')\n",
    "plt.title('Accuracy as function of (p-value, tree depth)')\n",
    "plt.legend()\n",
    "plt.show()"
   ]
  },
  {
   "cell_type": "markdown",
   "metadata": {},
   "source": [
    "Build the best 2 trees:\n",
    "1. tree_max_depth - the best tree according to max_depth pruning\n",
    "1. tree_chi - the best tree according to chi square pruning"
   ]
  },
  {
   "cell_type": "code",
   "execution_count": 37,
   "metadata": {},
   "outputs": [],
   "source": [
    "#### Your code here ####\n",
    "tree_max_depth = build_tree(data=X_train, impurityFunction=calc_entropy, gain_ratio=True, max_depth=4)\n",
    "tree_chi = build_tree(data=X_train, impurityFunction=calc_entropy, gain_ratio=True, chi=p_values[most_chi_accurate])"
   ]
  },
  {
   "cell_type": "markdown",
   "metadata": {},
   "source": [
    "## Number of Nodes\n",
    "\n",
    "(5 points) \n",
    "\n",
    "Of the two trees above we will choose the one with fewer nodes.\n",
    "\n",
    "Complete the function counts_nodes and print the number of nodes in each tree"
   ]
  },
  {
   "cell_type": "code",
   "execution_count": 38,
   "metadata": {},
   "outputs": [],
   "source": [
    "def count_nodes(node):\n",
    "    \"\"\"\n",
    "    Count the number of node in a given tree\n",
    " \n",
    "    Input:\n",
    "    - node: a node in the decision tree.\n",
    " \n",
    "    Output: the number of node in the tree.\n",
    "    \"\"\"\n",
    "    ###########################################################################\n",
    "    # TODO: Implement the function.                                           #\n",
    "    ###########################################################################\n",
    "    queue = []\n",
    "    numOfNodes=0\n",
    "    queue.append(node)\n",
    "    \n",
    "    for node in queue:\n",
    "        numOfNodes += 1\n",
    "        for child in node.children:\n",
    "            queue.append(child)\n",
    "    \n",
    "    return numOfNodes\n",
    "    ###########################################################################\n",
    "    #                             END OF YOUR CODE                            #\n",
    "    ###########################################################################\n",
    "    "
   ]
  },
  {
   "cell_type": "code",
   "execution_count": 39,
   "metadata": {},
   "outputs": [
    {
     "name": "stdout",
     "output_type": "stream",
     "text": [
      "tree_chi no. of nodes: 55 .\n",
      "tree_max_depth no. of nodes: 205 .\n",
      "\n",
      "The tree with less nodes is- tree_chi.\n"
     ]
    }
   ],
   "source": [
    "max_depth_tree_nodes = count_nodes(tree_max_depth) \n",
    "chi_tree_nodes = count_nodes(tree_chi)\n",
    "\n",
    "fewestNodes = \"tree_chi\" if chi_tree_nodes < max_depth_tree_nodes else \"tree_max_depth\"\n",
    "print(\"tree_chi no. of nodes: {} .\\ntree_max_depth no. of nodes: {} .\\n\".format(chi_tree_nodes, max_depth_tree_nodes))\n",
    "print(\"The tree with less nodes is- {}.\".format(fewestNodes))"
   ]
  },
  {
   "cell_type": "markdown",
   "metadata": {},
   "source": [
    "## Print the tree\n",
    "\n",
    "(5 points)\n",
    "\n",
    "Complete the function `print_tree` and execute it on your chosen tree. Your code should do print:\n",
    "```\n",
    "[ROOT, feature=X0],\n",
    "  [X0=a, feature=X2]\n",
    "    [X2=c, leaf]: [{1.0: 10}]\n",
    "    [X2=d, leaf]: [{0.0: 10}]\n",
    "  [X0=y, feature=X5], \n",
    "       [X5=a, leaf]: [{1.0: 5}]\n",
    "       [X5=s, leaf]: [{0.0: 10}]\n",
    "  [X0=e, leaf]: [{0.0: 25, 1.0: 50}]\n",
    "```\n",
    "In each brackets:\n",
    "* The first argument is the parent feature with the value that led to current node\n",
    "* The second argument is the selected feature of the current node\n",
    "* If the current node is a leaf, you need to print also the labels and their counts"
   ]
  },
  {
   "cell_type": "code",
   "execution_count": 40,
   "metadata": {},
   "outputs": [],
   "source": [
    "# you can change the function signeture\n",
    "def print_tree(node, depth=0, parent_feature='ROOT', feature_val='ROOT'):\n",
    "    '''\n",
    "    prints the tree according to the example above\n",
    "\n",
    "    Input:\n",
    "    - node: a node in the decision tree\n",
    "\n",
    "    This function has no return value\n",
    "    '''\n",
    "    ###########################################################################\n",
    "    # TODO: Implement the function.                                           #\n",
    "    ###########################################################################\n",
    "    \n",
    "    if node.is_leaf():\n",
    "        if node.edible == 0:\n",
    "            labelsCount = \"0.0: {}\".format(node.poisn)\n",
    "        elif node.poisn == 0:\n",
    "            labelsCount = \"1.0: {}\".format(node.edible)\n",
    "        else:\n",
    "            labelsCount = \"0.0: {}, 1.0: {}\".format(node.poisn, node.edible)\n",
    "        print(\"{}[X{}={}, leaf]: [{{{}}}]\".format(\"  \"*depth, node.parentIndex, node.value, labelsCount))\n",
    "    \n",
    "    else:\n",
    "        if node.parentIndex is None:\n",
    "            print(\"[ROOT, feature=X{}],\".format(node.featureIndex))\n",
    "        else:\n",
    "            print(\"{}[X{}={}, feature =X{}],\".format(\"  \"*depth, node.parentIndex, node.value, node.featureIndex))\n",
    "        for child in node.children:\n",
    "            print_tree(child, depth +1)\n",
    "    ###########################################################################\n",
    "    #                             END OF YOUR CODE                            #\n",
    "    ###########################################################################"
   ]
  },
  {
   "cell_type": "code",
   "execution_count": 41,
   "metadata": {},
   "outputs": [
    {
     "name": "stdout",
     "output_type": "stream",
     "text": [
      "[ROOT, feature=X4],\n",
      "  [X4=a, leaf]: [{0.0: 31, 1.0: 273}]\n",
      "  [X4=c, leaf]: [{0.0: 137, 1.0: 10}]\n",
      "  [X4=f, feature =X10],\n",
      "    [X10=f, feature =X2],\n",
      "      [X2=b, leaf]: [{0.0: 30, 1.0: 8}]\n",
      "      [X2=g, leaf]: [{0.0: 26, 1.0: 5}]\n",
      "      [X2=w, leaf]: [{0.0: 35, 1.0: 1}]\n",
      "    [X10=k, leaf]: [{0.0: 1037, 1.0: 134}]\n",
      "    [X10=s, leaf]: [{0.0: 310, 1.0: 22}]\n",
      "  [X4=l, feature =X1],\n",
      "    [X1=f, leaf]: [{0.0: 1, 1.0: 19}]\n",
      "    [X1=s, leaf]: [{0.0: 16, 1.0: 94}]\n",
      "    [X1=y, leaf]: [{0.0: 10, 1.0: 159}]\n",
      "  [X4=m, leaf]: [{0.0: 25, 1.0: 2}]\n",
      "  [X4=n, feature =X7],\n",
      "    [X7=b, feature =X18],\n",
      "      [X18=b, leaf]: [{0.0: 2, 1.0: 34}]\n",
      "      [X18=k, leaf]: [{0.0: 93, 1.0: 843}]\n",
      "      [X18=n, leaf]: [{0.0: 105, 1.0: 882}]\n",
      "      [X18=o, feature =X19],\n",
      "        [X19=c, leaf]: [{0.0: 4, 1.0: 12}]\n",
      "        [X19=v, leaf]: [{1.0: 16}]\n",
      "      [X18=r, leaf]: [{0.0: 46, 1.0: 6}]\n",
      "      [X18=w, leaf]: [{0.0: 33, 1.0: 369}]\n",
      "      [X18=y, leaf]: [{0.0: 3, 1.0: 35}]\n",
      "    [X7=n, feature =X3],\n",
      "      [X3=f, feature =X10],\n",
      "        [X10=f, leaf]: [{0.0: 3, 1.0: 17}]\n",
      "        [X10=k, leaf]: [{0.0: 25}]\n",
      "        [X10=s, feature =X2],\n",
      "          [X2=c, leaf]: [{1.0: 10}]\n",
      "          [X2=g, leaf]: [{0.0: 1, 1.0: 36}]\n",
      "          [X2=n, leaf]: [{0.0: 9, 1.0: 37}]\n",
      "          [X2=r, leaf]: [{0.0: 4, 1.0: 9}]\n",
      "          [X2=u, leaf]: [{1.0: 14}]\n",
      "          [X2=w, leaf]: [{0.0: 1, 1.0: 12}]\n",
      "        [X10=y, leaf]: [{0.0: 7}]\n",
      "      [X3=t, leaf]: [{0.0: 8}]\n",
      "  [X4=p, feature =X0],\n",
      "    [X0=f, feature =X18],\n",
      "      [X18=k, leaf]: [{0.0: 43, 1.0: 6}]\n",
      "      [X18=n, leaf]: [{0.0: 43, 1.0: 1}]\n",
      "    [X0=x, leaf]: [{0.0: 89, 1.0: 1}]\n",
      "  [X4=s, feature =X13],\n",
      "    [X13=p, leaf]: [{0.0: 190, 1.0: 12}]\n",
      "    [X13=w, feature =X12],\n",
      "      [X12=p, leaf]: [{0.0: 88, 1.0: 18}]\n",
      "      [X12=w, feature =X0],\n",
      "        [X0=f, leaf]: [{0.0: 38}]\n",
      "        [X0=k, leaf]: [{0.0: 30, 1.0: 3}]\n",
      "        [X0=x, leaf]: [{0.0: 34, 1.0: 5}]\n",
      "  [X4=y, feature =X1],\n",
      "    [X1=s, leaf]: [{0.0: 194, 1.0: 18}]\n",
      "    [X1=y, leaf]: [{0.0: 188, 1.0: 31}]\n"
     ]
    }
   ],
   "source": [
    "print_tree(tree_chi)"
   ]
  }
 ],
 "metadata": {
  "celltoolbar": "Create Assignment",
  "kernelspec": {
   "display_name": "Python 3",
   "language": "python",
   "name": "python3"
  },
  "language_info": {
   "codemirror_mode": {
    "name": "ipython",
    "version": 3
   },
   "file_extension": ".py",
   "mimetype": "text/x-python",
   "name": "python",
   "nbconvert_exporter": "python",
   "pygments_lexer": "ipython3",
   "version": "3.7.6"
  }
 },
 "nbformat": 4,
 "nbformat_minor": 2
}
